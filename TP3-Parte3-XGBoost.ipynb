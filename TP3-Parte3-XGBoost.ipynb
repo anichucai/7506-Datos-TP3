{
 "cells": [
  {
   "cell_type": "markdown",
   "id": "f01b9703",
   "metadata": {},
   "source": [
    "# Parte III: XGBoost"
   ]
  },
  {
   "cell_type": "code",
   "execution_count": 1,
   "id": "1b102310",
   "metadata": {},
   "outputs": [],
   "source": [
    "import pandas as pd\n",
    "import numpy as np\n",
    "import datetime as dt\n",
    "from matplotlib import pyplot as plt"
   ]
  },
  {
   "cell_type": "code",
   "execution_count": 2,
   "id": "54142d13",
   "metadata": {},
   "outputs": [],
   "source": [
    "RANDOM_STATE = 24 #mi numero favoritos\n",
    "N_JOBS = -1\n",
    "\n",
    "prefix = {\n",
    "    \"NF\":\"|\",\n",
    "    \"B\": \"BINARY_ENCODING|\",\n",
    "    \"TFIDF\":\"TFIDF|\",\n",
    "    \"ME\":\"MEAN_ENCODING|\",\n",
    "    \"OHE\":\"ONE_HOT_ENCODING|\"    \n",
    "}"
   ]
  },
  {
   "cell_type": "markdown",
   "id": "1e7a17f7",
   "metadata": {},
   "source": [
    "## Obtengo el dataset"
   ]
  },
  {
   "cell_type": "markdown",
   "id": "372dbb0b",
   "metadata": {},
   "source": [
    "Uno dos de los archivos con datos otorgados"
   ]
  },
  {
   "cell_type": "code",
   "execution_count": 3,
   "id": "f8878eaf",
   "metadata": {
    "scrolled": true
   },
   "outputs": [],
   "source": [
    "df_identity = pd.read_csv(\"dataset/train_identity.csv\")\n",
    "df_transaction = pd.read_csv(\"dataset/train_transaction.csv\")"
   ]
  },
  {
   "cell_type": "code",
   "execution_count": 4,
   "id": "ff9312cb",
   "metadata": {},
   "outputs": [],
   "source": [
    "df_train = df_identity.merge(df_transaction, on=\"TransactionID\", how=\"outer\")\n",
    "df_identity, df_transaction = None, None #libero memoria"
   ]
  },
  {
   "cell_type": "code",
   "execution_count": 5,
   "id": "23a07c79",
   "metadata": {},
   "outputs": [],
   "source": [
    "len_rows , len_columns = df_train.shape"
   ]
  },
  {
   "cell_type": "markdown",
   "id": "9ade827e",
   "metadata": {},
   "source": [
    "## Identifico columas unicas"
   ]
  },
  {
   "cell_type": "markdown",
   "id": "e4138eed",
   "metadata": {},
   "source": [
    "Observamos que la única columna con valores únicos es la que representa \"TransactionID\"."
   ]
  },
  {
   "cell_type": "code",
   "execution_count": 6,
   "id": "5f0e2743",
   "metadata": {
    "scrolled": true
   },
   "outputs": [
    {
     "data": {
      "text/plain": [
       "False    433\n",
       "True       1\n",
       "dtype: int64"
      ]
     },
     "execution_count": 6,
     "metadata": {},
     "output_type": "execute_result"
    }
   ],
   "source": [
    "(df_train.nunique() == len_rows).value_counts()"
   ]
  },
  {
   "cell_type": "markdown",
   "id": "6ed66f4d",
   "metadata": {},
   "source": [
    "## Elimino columnas vacias "
   ]
  },
  {
   "cell_type": "markdown",
   "id": "a68af692",
   "metadata": {},
   "source": [
    "Observo que no hay columnas vacias"
   ]
  },
  {
   "cell_type": "code",
   "execution_count": 7,
   "id": "af8e9eb5",
   "metadata": {
    "scrolled": false
   },
   "outputs": [
    {
     "data": {
      "text/plain": [
       "False    434\n",
       "dtype: int64"
      ]
     },
     "execution_count": 7,
     "metadata": {},
     "output_type": "execute_result"
    }
   ],
   "source": [
    "(df_train.isna().sum() == len_rows).value_counts()"
   ]
  },
  {
   "cell_type": "markdown",
   "id": "1655bf29",
   "metadata": {},
   "source": [
    "### Identifico variables categoricas"
   ]
  },
  {
   "cell_type": "code",
   "execution_count": 8,
   "id": "e4272e13",
   "metadata": {
    "scrolled": true
   },
   "outputs": [],
   "source": [
    "FEATURES_CATEGORICOS = list(df_train.dtypes[(df_train.dtypes ==\"object\")].index)"
   ]
  },
  {
   "cell_type": "markdown",
   "id": "1fd52b09",
   "metadata": {},
   "source": [
    "## Feature engineering"
   ]
  },
  {
   "cell_type": "markdown",
   "id": "38e4c507",
   "metadata": {},
   "source": [
    "### Funciones auxiliares"
   ]
  },
  {
   "cell_type": "code",
   "execution_count": 9,
   "id": "ab32dfd1",
   "metadata": {},
   "outputs": [],
   "source": [
    "def binary_encoding(value, keys):\n",
    "    if(value==keys[0]):\n",
    "        return 1\n",
    "    elif(value==keys[1]):\n",
    "        return 0\n",
    "    return np.nan"
   ]
  },
  {
   "cell_type": "code",
   "execution_count": 10,
   "id": "136618b6",
   "metadata": {},
   "outputs": [],
   "source": [
    "def mean_encoding(df, feature_name, target_name):\n",
    "    values = df.groupby([feature_name])[target_name].mean().to_dict()\n",
    "    return df[feature_name].map(values)\n",
    "\n",
    "def mean_encoding_test(df, df_train, feature_name, target_name):\n",
    "    values = df_train.groupby([feature_name])[target_name].mean().to_dict()\n",
    "    return df[feature_name].map(values)"
   ]
  },
  {
   "cell_type": "code",
   "execution_count": 11,
   "id": "8afd381b",
   "metadata": {},
   "outputs": [],
   "source": [
    "from sklearn.feature_extraction.text import TfidfVectorizer\n",
    "\n",
    "def tfidf_encoding(df, feature_name, min_df=0.01, df_test= None, isTest = False):\n",
    "    train = df[feature_name].fillna(\"\")\n",
    "    tfidfvectorizer = TfidfVectorizer(analyzer='word',stop_words= 'english', min_df=min_df)\n",
    "    tfidf_wm = tfidfvectorizer.fit_transform(train)\n",
    "    tfidf_tokens = tfidfvectorizer.get_feature_names()\n",
    "    if(isTest):\n",
    "        test = df_test[feature_name].fillna(\"\")\n",
    "        tfidf_wm = tfidfvectorizer.transform(test)\n",
    "    df_tfidfvect = pd.DataFrame(data = tfidf_wm.toarray(), columns = tfidf_tokens)\n",
    "    df_tfidfvect.columns = [prefix[\"NF\"] + prefix[\"TFIDF\"] + x for x in df_tfidfvect.columns]\n",
    "    return df_tfidfvect"
   ]
  },
  {
   "cell_type": "code",
   "execution_count": 12,
   "id": "78fcea57",
   "metadata": {},
   "outputs": [],
   "source": [
    "from sklearn.preprocessing import OneHotEncoder\n",
    "\n",
    "def one_hot_encoding(df, feature_name, df_test= None, isTest = False):\n",
    "    enc = OneHotEncoder(handle_unknown='ignore')\n",
    "    \n",
    "    train = df[[feature_name]]\n",
    "    enc_wm = enc.fit(train)\n",
    "    enc_tokens = enc.get_feature_names()\n",
    "    if(isTest):\n",
    "        test = df_test[[feature_name]].fillna(\"\")\n",
    "        enc_data = enc.transform(test)\n",
    "    else:\n",
    "        enc_data = enc.transform(train)\n",
    "\n",
    "    df_enc = pd.DataFrame(data = enc_data.toarray(), columns = enc_tokens)\n",
    "    df_enc.columns = [prefix[\"NF\"] + prefix[\"OHE\"] + x for x in df_enc.columns]\n",
    "    return df_enc"
   ]
  },
  {
   "cell_type": "markdown",
   "id": "56e0b09a",
   "metadata": {},
   "source": [
    "### Casos particulares"
   ]
  },
  {
   "cell_type": "code",
   "execution_count": 13,
   "id": "f4f0e1fa",
   "metadata": {},
   "outputs": [],
   "source": [
    "def get_match_status(x):\n",
    "    if(type(x) != float):\n",
    "        return int(x.split(\":\")[1])\n",
    "    return np.nan\n",
    "\n",
    "def enconde_id_34(df):\n",
    "    df[prefix[\"NF\"] + \"id_34\"] = df[\"id_34\"].apply(lambda x: get_match_status(x))"
   ]
  },
  {
   "cell_type": "code",
   "execution_count": 14,
   "id": "bef55ae8",
   "metadata": {},
   "outputs": [],
   "source": [
    "def get_size_screen(x):\n",
    "    if(type(x) != float):\n",
    "        return int(x.split(\"x\")[1])\n",
    "    return np.nan\n",
    "\n",
    "def enconde_id_33(df):\n",
    "    temp =  df[\"id_33\"].apply(lambda x: get_size_screen(x))\n",
    "    df[prefix[\"NF\"] + \"1|\" + \"id_33\"] = temp.apply(lambda x: x[0] if(type(x) != float) else np.nan)\n",
    "    df[prefix[\"NF\"] + \"2|\" + \"id_33\"] = temp.apply(lambda x: x[1] if(type(x) != float) else np.nan)\n",
    "        "
   ]
  },
  {
   "cell_type": "markdown",
   "id": "3e1700d6",
   "metadata": {},
   "source": [
    "### Feature engineering"
   ]
  },
  {
   "cell_type": "code",
   "execution_count": 15,
   "id": "1c6c7d50",
   "metadata": {},
   "outputs": [],
   "source": [
    "features_one_hot_encoding = [\"id_15\", \"id_23\", \"id_34\", \"DeviceType\", \"ProductCD\", \"card4\", \"card6\", \"M4\"]"
   ]
  },
  {
   "cell_type": "code",
   "execution_count": 16,
   "id": "b105dce1",
   "metadata": {},
   "outputs": [],
   "source": [
    "def feature_engineering(df_original, df_train = None, isTest=False, allowCategorical= True):\n",
    "    \n",
    "    df = df_original.copy()\n",
    "    \n",
    "    # Features unicos\n",
    "    features_unicas = []\n",
    "    for feature in features_unicas:\n",
    "        del df[feature]\n",
    "        \n",
    "    # Mean encoding\n",
    "    feature_mean_encoding = [\n",
    "        'id_15', 'id_23', 'id_30','id_31', 'id_33', 'id_34', 'DeviceInfo', 'ProductCD', 'card4', 'card6',\n",
    "       'P_emaildomain', 'R_emaildomain', 'M4']\n",
    "    \n",
    "    for feature in feature_mean_encoding:\n",
    "        if(isTest):\n",
    "            df[prefix[\"NF\"] + prefix[\"ME\"] + feature] = mean_encoding_test(df, df_train, feature, \"isFraud\")\n",
    "        else:\n",
    "            df[prefix[\"NF\"] + prefix[\"ME\"] + feature] = mean_encoding(df, feature, \"isFraud\")\n",
    "    \n",
    "    # TFIDF\n",
    "    features_tdf_idf = ['id_23', 'id_30','id_31', 'id_33', 'DeviceInfo', 'card4', 'card6', 'P_emaildomain', 'R_emaildomain', 'M4']\n",
    "        \n",
    "    for feature in features_tdf_idf:        \n",
    "        if(isTest):\n",
    "            df.join(tfidf_encoding(df, feature, 0.001, df_original, isTest))\n",
    "        else:\n",
    "            df.join(tfidf_encoding(df, feature, min_df=0.001))\n",
    "\n",
    "    # One hot encoding\n",
    "    lista_features_binarias = [\"id_35\", \"id_36\", \"id_37\", \"id_38\",\n",
    "                               'M1', 'M2', 'M3', \"M5\", \"M6\", 'M7', 'M8', 'M9',\n",
    "                               \"id_12\", \"id_27\", \"id_28\", \"id_29\",\"id_16\",\n",
    "                               'DeviceType']\n",
    "    features_one_hot_ecoding = lista_features_binarias + [\"id_15\", \"id_23\", \"id_34\", \"DeviceType\", \"ProductCD\", \"card4\", \"card6\", \"M4\"]\n",
    "    for feature in features_one_hot_ecoding:        \n",
    "        if(isTest):\n",
    "            df.join(one_hot_encoding(df, feature, df_original, isTest))\n",
    "        else:\n",
    "            df.join(one_hot_encoding(df, feature))\n",
    "            \n",
    "    # Casos particulares\n",
    "    enconde_id_34(df)\n",
    "    enconde_id_33(df)\n",
    "    \n",
    "    #Puede tener features categoricos\n",
    "    if(not allowCategorical):\n",
    "        for i in FEATURES_CATEGORICOS:\n",
    "            del df[i]\n",
    "            \n",
    "    return df"
   ]
  },
  {
   "cell_type": "markdown",
   "id": "24b8d749",
   "metadata": {},
   "source": [
    "## RandomForestClassifier"
   ]
  },
  {
   "cell_type": "code",
   "execution_count": 17,
   "id": "7a999220",
   "metadata": {},
   "outputs": [],
   "source": [
    "# Librerias\n",
    "\n",
    "from sklearn.model_selection import train_test_split\n",
    "\n",
    "from sklearn.model_selection import KFold\n",
    "\n",
    "from sklearn.model_selection import RandomizedSearchCV\n",
    "\n",
    "from sklearn.metrics import roc_auc_score"
   ]
  },
  {
   "cell_type": "code",
   "execution_count": 18,
   "id": "10f8f609",
   "metadata": {},
   "outputs": [],
   "source": [
    "import xgboost as xgb"
   ]
  },
  {
   "cell_type": "code",
   "execution_count": 19,
   "id": "a3390ad9",
   "metadata": {},
   "outputs": [],
   "source": [
    "# Se separa el target\n",
    "\n",
    "df_XGB = feature_engineering(df_train, allowCategorical=False).fillna(0)\n",
    "\n",
    "X = df_XGB.drop(columns = [\"isFraud\"])\n",
    "del X[\"TransactionID\"]\n",
    "\n",
    "y = df_XGB[\"isFraud\"]\n",
    "\n",
    "df_XGB = None"
   ]
  },
  {
   "cell_type": "markdown",
   "id": "d5716a71",
   "metadata": {},
   "source": [
    "### Corrida básica sin tunning"
   ]
  },
  {
   "cell_type": "code",
   "execution_count": 20,
   "id": "e0f1d949",
   "metadata": {},
   "outputs": [],
   "source": [
    "X_train, X_test, y_train, y_test = train_test_split(X, y,\n",
    "                                                    test_size=0.33,\n",
    "                                                    random_state=RANDOM_STATE)\n",
    "\n",
    "clf = xgb.XGBClassifier(random_state=RANDOM_STATE,\n",
    "                        objective ='binary:logistic',\n",
    "                        eval_metric = 'auc',\n",
    "                       use_label_encoder=False).fit(X_train, y_train)"
   ]
  },
  {
   "cell_type": "code",
   "execution_count": 21,
   "id": "63918651",
   "metadata": {},
   "outputs": [],
   "source": [
    "prediction = clf.predict(X_test)"
   ]
  },
  {
   "cell_type": "code",
   "execution_count": 22,
   "id": "0d279e86",
   "metadata": {
    "scrolled": true
   },
   "outputs": [
    {
     "data": {
      "text/plain": [
       "0.9522737858046575"
      ]
     },
     "execution_count": 22,
     "metadata": {},
     "output_type": "execute_result"
    }
   ],
   "source": [
    "roc_auc_score(prediction, y_test)"
   ]
  },
  {
   "cell_type": "markdown",
   "id": "7dd44013",
   "metadata": {},
   "source": [
    "### Mejor score de validación"
   ]
  },
  {
   "cell_type": "markdown",
   "id": "3c0e581b",
   "metadata": {},
   "source": [
    "En esta sección se calculará el mejor score de validación obtenido.\n",
    "\n",
    "Para ello, se emplea Cross Validation y tunning de hieprparametros para obtener el mejor resultado."
   ]
  },
  {
   "cell_type": "code",
   "execution_count": 24,
   "id": "241cd145",
   "metadata": {},
   "outputs": [],
   "source": [
    "space ={\n",
    "    \"booster\": [ \"gbtree\", \"gblinear\", \"dart\"],\n",
    "    \"eta\": [0.01, 0.05, 0.1, 0.2, 0.3, 0.4],\n",
    "    \"gamma\": np.arange(0,15,1),\n",
    "    \"lambda\": np.arange(0,22,2),\n",
    "    'reg_alpha':[1e-5, 1e-2, 0.05, 0.1, 0.5, 1, 10, 25, 50, 100],\n",
    "    'objective': ['binary:logistic'],\n",
    "    'eval_metric': ['auc'],\n",
    "    'seed': [RANDOM_STATE],\n",
    "    'n_estimators': [50, 100, 150, 200, 500, 1000],\n",
    "    'use_label_encoder': [False]\n",
    "}"
   ]
  },
  {
   "cell_type": "code",
   "execution_count": 25,
   "id": "ae25b974",
   "metadata": {
    "scrolled": false
   },
   "outputs": [],
   "source": [
    "model = xgb.XGBClassifier(n_jobs=N_JOBS)\n",
    "\n",
    "cv = KFold(n_splits=5)\n",
    "\n",
    "search = RandomizedSearchCV(model,\n",
    "                            space,\n",
    "                            cv=cv,\n",
    "                            scoring='roc_auc',\n",
    "                            random_state=RANDOM_STATE)"
   ]
  },
  {
   "cell_type": "code",
   "execution_count": 26,
   "id": "b1c2ab4f",
   "metadata": {
    "scrolled": false
   },
   "outputs": [],
   "source": [
    "result = search.fit(X, y)"
   ]
  },
  {
   "cell_type": "code",
   "execution_count": 27,
   "id": "f25112c2",
   "metadata": {},
   "outputs": [
    {
     "name": "stdout",
     "output_type": "stream",
     "text": [
      "Best Score: 0.8801589994911199\n",
      "Best Hyperparameters: {'use_label_encoder': False, 'seed': 24, 'reg_alpha': 0.05, 'objective': 'binary:logistic', 'n_estimators': 200, 'lambda': 6, 'gamma': 10, 'eval_metric': 'auc', 'eta': 0.1, 'booster': 'dart'}\n"
     ]
    }
   ],
   "source": [
    "# summarize result:\n",
    "\n",
    "print('Best Score: %s' % result.best_score_)\n",
    "print('Best Hyperparameters: %s' % result.best_params_)"
   ]
  },
  {
   "cell_type": "markdown",
   "id": "96fce5d8",
   "metadata": {},
   "source": [
    "### Predicción en la compentecia"
   ]
  },
  {
   "cell_type": "markdown",
   "id": "36e664ad",
   "metadata": {},
   "source": [
    "En la siguiente sección vamos a calcular la predicció si estuvieramos compitiendo con el mejor modelo que se logró con el modelo \"Logistic Regression\"."
   ]
  },
  {
   "cell_type": "code",
   "execution_count": 28,
   "id": "a969c9cb",
   "metadata": {},
   "outputs": [],
   "source": [
    "# Leo archivos test\n",
    "\n",
    "df_identity_test = pd.read_csv(\"dataset/test_identity.csv\")\n",
    "df_transaction_test = pd.read_csv(\"dataset/test_transaction.csv\")\n",
    "\n",
    "df_test = df_identity_test.merge(df_transaction_test, on=\"TransactionID\", how=\"outer\")\n",
    "df_identity_test, df_transaction_test = None, None"
   ]
  },
  {
   "cell_type": "code",
   "execution_count": 29,
   "id": "aa55de30",
   "metadata": {},
   "outputs": [],
   "source": [
    "# Aplico Feature Engineering\n",
    "\n",
    "df_test.columns = df_test.columns.str.replace(\"id-\", \"id_\")\n",
    "X_test = feature_engineering(df_test, df_train, True, allowCategorical=False).fillna(0)\n",
    "TransactionID = X_test[\"TransactionID\"]\n",
    "del X_test[\"TransactionID\"]"
   ]
  },
  {
   "cell_type": "code",
   "execution_count": 30,
   "id": "c60d1dbc",
   "metadata": {},
   "outputs": [
    {
     "data": {
      "text/plain": [
       "XGBClassifier(base_score=0.5, booster='dart', colsample_bylevel=1,\n",
       "              colsample_bynode=1, colsample_bytree=1, eta=0.1,\n",
       "              eval_metric='auc', gamma=10, gpu_id=-1, importance_type='gain',\n",
       "              interaction_constraints='', lambda=6, learning_rate=0.100000001,\n",
       "              max_delta_step=0, max_depth=6, min_child_weight=1, missing=nan,\n",
       "              monotone_constraints='()', n_estimators=200, n_jobs=16,\n",
       "              num_parallel_tree=1, random_state=24, reg_alpha=0.05,\n",
       "              reg_lambda=6, scale_pos_weight=1, seed=24, subsample=1,\n",
       "              tree_method='exact', use_label_encoder=False,\n",
       "              validate_parameters=1, ...)"
      ]
     },
     "execution_count": 30,
     "metadata": {},
     "output_type": "execute_result"
    }
   ],
   "source": [
    "# Creo modelo con los hiperparametros resultantes de la busqueda de hiperparametros\n",
    "\n",
    "best_XGB = xgb.XGBClassifier(**result.best_params_)\n",
    "best_XGB.fit(X, y)"
   ]
  },
  {
   "cell_type": "code",
   "execution_count": 31,
   "id": "c2b4b7e3",
   "metadata": {},
   "outputs": [],
   "source": [
    "# Creo archivo para realizar el submit en la competencia\n",
    "\n",
    "result_competition = best_XGB.predict_proba(X_test)\n",
    "result = pd.DataFrame()\n",
    "\n",
    "result[\"TransactionID\"] = TransactionID\n",
    "result[\"isFraud\"] = result_competition[:, 1]"
   ]
  },
  {
   "cell_type": "code",
   "execution_count": 32,
   "id": "bdd8628a",
   "metadata": {},
   "outputs": [],
   "source": [
    "result.to_csv('predictions/XGB_2021-11-27-19:43' + '.csv', index=False)"
   ]
  },
  {
   "cell_type": "markdown",
   "id": "87c3f9f6",
   "metadata": {},
   "source": [
    "En la competencia se logro un public score de 0.920019 y un private score de 0.905971."
   ]
  },
  {
   "cell_type": "markdown",
   "id": "c16ea2ad",
   "metadata": {},
   "source": [
    "### Mejores features"
   ]
  },
  {
   "cell_type": "code",
   "execution_count": 33,
   "id": "c161ad6a",
   "metadata": {},
   "outputs": [],
   "source": [
    "# Creo un dataframe con la importancia de cada feature\n",
    "\n",
    "df_features_coef = pd.DataFrame()\n",
    "df_features_coef[\"feature\"] = X_test.columns\n",
    "df_features_coef[\"importance\"] = abs(best_XGB.feature_importances_)\n",
    "df_features_coef.set_index([\"feature\"], inplace=True)"
   ]
  },
  {
   "cell_type": "code",
   "execution_count": 34,
   "id": "f580c9b0",
   "metadata": {
    "scrolled": true
   },
   "outputs": [
    {
     "data": {
      "text/plain": [
       "feature\n",
       "V258                         0.139441\n",
       "V201                         0.054817\n",
       "V91                          0.033724\n",
       "V246                         0.033266\n",
       "V70                          0.031871\n",
       "V189                         0.024446\n",
       "V294                         0.013093\n",
       "V48                          0.012523\n",
       "V295                         0.012503\n",
       "V244                         0.011543\n",
       "V308                         0.011092\n",
       "C14                          0.008564\n",
       "V333                         0.008187\n",
       "C8                           0.007986\n",
       "V195                         0.007771\n",
       "V209                         0.007457\n",
       "C1                           0.007368\n",
       "V283                         0.006523\n",
       "V274                         0.006459\n",
       "V156                         0.006400\n",
       "V45                          0.006298\n",
       "V273                         0.006124\n",
       "V150                         0.005971\n",
       "|MEAN_ENCODING|DeviceInfo    0.005744\n",
       "V149                         0.005697\n",
       "V332                         0.005677\n",
       "V324                         0.005522\n",
       "V29                          0.005489\n",
       "V317                         0.005486\n",
       "V225                         0.005420\n",
       "Name: importance, dtype: float32"
      ]
     },
     "execution_count": 34,
     "metadata": {},
     "output_type": "execute_result"
    }
   ],
   "source": [
    "# Busco los n features mas importantes\n",
    "\n",
    "n = 30\n",
    "top_n = df_features_coef[\"importance\"].nlargest(n)\n",
    "\n",
    "top_n"
   ]
  },
  {
   "cell_type": "code",
   "execution_count": 35,
   "id": "76e42982",
   "metadata": {},
   "outputs": [
    {
     "data": {
      "image/png": "[encoded data removed]",
      "text/plain": [
       "<Figure size 1440x360 with 1 Axes>"
      ]
     },
     "metadata": {
      "needs_background": "light"
     },
     "output_type": "display_data"
    }
   ],
   "source": [
    "# Grafico los n features mas importantes\n",
    "\n",
    "fig, axs = plt.subplots(figsize=(20,5))\n",
    "\n",
    "plt.stem(top_n)\n",
    "plt.xticks(range(n),top_n.index, rotation=60)\n",
    "plt.yticks(np.arange(0,0.15,0.01))\n",
    "plt.grid(True)\n",
    "plt.xlabel(\"Features\")\n",
    "plt.ylabel(\"Coeficiente absoluto\")\n",
    "\n",
    "fig.suptitle(\"Top 30 features mas importantes en el modelo XGBoost\", fontsize=18)\n",
    "\n",
    "plt.show()"
   ]
  }
 ],
 "metadata": {
  "kernelspec": {
   "display_name": "Python 3",
   "language": "python",
   "name": "python3"
  },
  "language_info": {
   "codemirror_mode": {
    "name": "ipython",
    "version": 3
   },
   "file_extension": ".py",
   "mimetype": "text/x-python",
   "name": "python",
   "nbconvert_exporter": "python",
   "pygments_lexer": "ipython3",
   "version": "3.8.8"
  }
 },
 "nbformat": 4,
 "nbformat_minor": 5
}
