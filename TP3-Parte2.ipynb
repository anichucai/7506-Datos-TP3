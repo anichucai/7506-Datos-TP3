{
 "cells": [
  {
   "cell_type": "markdown",
   "id": "f01b9703",
   "metadata": {},
   "source": [
    "# Parte II: Machine Learning Baseline"
   ]
  },
  {
   "cell_type": "code",
   "execution_count": 1,
   "id": "1b102310",
   "metadata": {},
   "outputs": [],
   "source": [
    "import pandas as pd\n",
    "import numpy as np\n",
    "import datetime as dt\n",
    "from matplotlib import pyplot as plt"
   ]
  },
  {
   "cell_type": "code",
   "execution_count": 2,
   "id": "15e057b8",
   "metadata": {},
   "outputs": [],
   "source": [
    "# Do not print warings\n",
    "import warnings; warnings.simplefilter('ignore')"
   ]
  },
  {
   "cell_type": "code",
   "execution_count": 3,
   "id": "54142d13",
   "metadata": {},
   "outputs": [],
   "source": [
    "RANDOM_STATE = 24 #mi numero favoritos"
   ]
  },
  {
   "cell_type": "markdown",
   "id": "1e7a17f7",
   "metadata": {},
   "source": [
    "## Obtengo el dataset"
   ]
  },
  {
   "cell_type": "markdown",
   "id": "372dbb0b",
   "metadata": {},
   "source": [
    "Uno dos de los archivos con datos otorgados"
   ]
  },
  {
   "cell_type": "code",
   "execution_count": 4,
   "id": "f8878eaf",
   "metadata": {},
   "outputs": [],
   "source": [
    "df_identity = pd.read_csv(\"dataset/train_identity.csv\")\n",
    "df_transaction = pd.read_csv(\"dataset/train_transaction.csv\")"
   ]
  },
  {
   "cell_type": "code",
   "execution_count": 5,
   "id": "ff9312cb",
   "metadata": {},
   "outputs": [],
   "source": [
    "df_train = df_identity.merge(df_transaction, on=\"TransactionID\", how=\"outer\")\n",
    "df_identity, df_transaction = None, None #libero memoria"
   ]
  },
  {
   "cell_type": "code",
   "execution_count": 6,
   "id": "23a07c79",
   "metadata": {},
   "outputs": [],
   "source": [
    "len_rows , len_columns = df_train.shape"
   ]
  },
  {
   "cell_type": "markdown",
   "id": "9ade827e",
   "metadata": {},
   "source": [
    "## Identifico columas unicas"
   ]
  },
  {
   "cell_type": "markdown",
   "id": "e4138eed",
   "metadata": {},
   "source": [
    "Observamos que la única columna con valores únicos es la que representa \"TransactionID\"."
   ]
  },
  {
   "cell_type": "code",
   "execution_count": 7,
   "id": "5f0e2743",
   "metadata": {},
   "outputs": [
    {
     "data": {
      "text/plain": [
       "False    433\n",
       "True       1\n",
       "dtype: int64"
      ]
     },
     "execution_count": 7,
     "metadata": {},
     "output_type": "execute_result"
    }
   ],
   "source": [
    "(df_train.nunique() == len_rows).value_counts()"
   ]
  },
  {
   "cell_type": "markdown",
   "id": "6ed66f4d",
   "metadata": {},
   "source": [
    "## Elimino columnas vacias "
   ]
  },
  {
   "cell_type": "markdown",
   "id": "a68af692",
   "metadata": {},
   "source": [
    "Observo que no hay columnas vacias"
   ]
  },
  {
   "cell_type": "code",
   "execution_count": 8,
   "id": "af8e9eb5",
   "metadata": {
    "scrolled": false
   },
   "outputs": [
    {
     "data": {
      "text/plain": [
       "False    434\n",
       "dtype: int64"
      ]
     },
     "execution_count": 8,
     "metadata": {},
     "output_type": "execute_result"
    }
   ],
   "source": [
    "(df_train.isna().sum() == len_rows).value_counts()"
   ]
  },
  {
   "cell_type": "markdown",
   "id": "1655bf29",
   "metadata": {},
   "source": [
    "### Identifico variables categoricas"
   ]
  },
  {
   "cell_type": "code",
   "execution_count": 9,
   "id": "e4272e13",
   "metadata": {},
   "outputs": [
    {
     "data": {
      "text/plain": [
       "Index(['id_12', 'id_15', 'id_16', 'id_23', 'id_27', 'id_28', 'id_29', 'id_30',\n",
       "       'id_31', 'id_33', 'id_34', 'id_35', 'id_36', 'id_37', 'id_38',\n",
       "       'DeviceType', 'DeviceInfo', 'ProductCD', 'card4', 'card6',\n",
       "       'P_emaildomain', 'R_emaildomain', 'M1', 'M2', 'M3', 'M4', 'M5', 'M6',\n",
       "       'M7', 'M8', 'M9'],\n",
       "      dtype='object')"
      ]
     },
     "execution_count": 9,
     "metadata": {},
     "output_type": "execute_result"
    }
   ],
   "source": [
    "df_train.dtypes[(df_train.dtypes ==\"object\")].index"
   ]
  },
  {
   "cell_type": "markdown",
   "id": "1fd52b09",
   "metadata": {},
   "source": [
    "## Feature engineering"
   ]
  },
  {
   "cell_type": "markdown",
   "id": "38e4c507",
   "metadata": {},
   "source": [
    "### Funciones auxiliares"
   ]
  },
  {
   "cell_type": "code",
   "execution_count": 10,
   "id": "ab32dfd1",
   "metadata": {},
   "outputs": [],
   "source": [
    "def binary_encoding(value, keys):\n",
    "    if(value==keys[0]):\n",
    "        return 1\n",
    "    elif(value==keys[1]):\n",
    "        return 0\n",
    "    return np.nan"
   ]
  },
  {
   "cell_type": "code",
   "execution_count": 11,
   "id": "136618b6",
   "metadata": {},
   "outputs": [],
   "source": [
    "def mean_encoding(df, feature_name, target_name):\n",
    "    values = df.groupby([feature_name])[target_name].mean().to_dict()\n",
    "    return df[feature_name].map(values)\n",
    "\n",
    "def mean_encoding_test(df, df_train, feature_name, target_name):\n",
    "    values = df_train.groupby([feature_name])[target_name].mean().to_dict()\n",
    "    return df[feature_name].map(values)"
   ]
  },
  {
   "cell_type": "code",
   "execution_count": 12,
   "id": "8afd381b",
   "metadata": {},
   "outputs": [],
   "source": [
    "def tfidf_encoding(df, feature_name, target_name):\n",
    "    return 0"
   ]
  },
  {
   "cell_type": "markdown",
   "id": "56e0b09a",
   "metadata": {},
   "source": [
    "### Casos particulares"
   ]
  },
  {
   "cell_type": "code",
   "execution_count": 13,
   "id": "f4f0e1fa",
   "metadata": {},
   "outputs": [],
   "source": [
    "def get_match_status(x):\n",
    "    if(type(x) != float):\n",
    "        return int(x.split(\":\")[1])\n",
    "    return np.nan\n",
    "\n",
    "def enconde_id_34(df):\n",
    "    df[\"id_34\"] = df[\"id_34\"].apply(lambda x: get_match_status(x))"
   ]
  },
  {
   "cell_type": "markdown",
   "id": "3e1700d6",
   "metadata": {},
   "source": [
    "### Feature engineering"
   ]
  },
  {
   "cell_type": "code",
   "execution_count": 14,
   "id": "b105dce1",
   "metadata": {},
   "outputs": [],
   "source": [
    "def feature_engineering(df_original, df_train = None, isTest=False):\n",
    "    \n",
    "    df = df_original.copy()\n",
    "    \n",
    "    # Features unicos\n",
    "    features_unicas = []\n",
    "    for feature in features_unicas:\n",
    "        del df[feature]\n",
    "    \n",
    "    # Features binarios\n",
    "    lista_features_binarias = [\n",
    "        [[\"id_35\", \"id_36\", \"id_37\", \"id_38\", 'M1', 'M2', 'M3', \"M5\", \"M6\", 'M7', 'M8', 'M9'], [\"T\",\"F\"]],\n",
    "        [[\"id_12\", \"id_27\", \"id_28\", \"id_29\",\"id_16\"], [\"Found\", \"NotFound\"]]\n",
    "    ]\n",
    "    for features_binarias, keys in lista_features_binarias:\n",
    "        for feature in features_binarias:\n",
    "            df[feature] = df[feature].apply(lambda x: binary_encoding(x, keys))\n",
    "        \n",
    "    # Features categoricos no binarios\n",
    "    features_categoricas = [\n",
    "        'id_15', 'id_23', 'id_30','id_31', 'id_33', 'id_34',\n",
    "       'DeviceType', 'DeviceInfo', 'ProductCD', 'card4', 'card6',\n",
    "       'P_emaildomain', 'R_emaildomain', 'M4']\n",
    "    for feature in features_categoricas:\n",
    "        if(isTest):\n",
    "            df[feature] = mean_encoding_test(df, df_train, feature, \"isFraud\")\n",
    "        else:\n",
    "            df[feature] = mean_encoding(df, feature, \"isFraud\")\n",
    "        \n",
    "    # Casos particulares\n",
    "    enconde_id_34(df)\n",
    "    \n",
    "    return df"
   ]
  },
  {
   "cell_type": "code",
   "execution_count": 15,
   "id": "3b94e518",
   "metadata": {},
   "outputs": [],
   "source": [
    "df_LR = feature_engineering(df_train).fillna(0)"
   ]
  },
  {
   "cell_type": "markdown",
   "id": "24b8d749",
   "metadata": {},
   "source": [
    "## Logistic Regression"
   ]
  },
  {
   "cell_type": "code",
   "execution_count": 16,
   "id": "7a999220",
   "metadata": {},
   "outputs": [],
   "source": [
    "# Librerias\n",
    "\n",
    "from sklearn.model_selection import train_test_split\n",
    "\n",
    "from sklearn.linear_model import LogisticRegression\n",
    "\n",
    "from sklearn.model_selection import KFold\n",
    "\n",
    "from sklearn.model_selection import RandomizedSearchCV\n",
    "\n",
    "from sklearn.metrics import roc_auc_score"
   ]
  },
  {
   "cell_type": "code",
   "execution_count": 17,
   "id": "a3390ad9",
   "metadata": {},
   "outputs": [],
   "source": [
    "# Se separa el target\n",
    "\n",
    "df_LR = feature_engineering(df_train).fillna(0)\n",
    "\n",
    "X = df_LR.drop(columns = [\"isFraud\"])\n",
    "del X[\"TransactionID\"]\n",
    "\n",
    "y = df_LR[\"isFraud\"]\n",
    "\n",
    "df_LR = None"
   ]
  },
  {
   "cell_type": "markdown",
   "id": "d5716a71",
   "metadata": {},
   "source": [
    "### Corrida básica sin tunning"
   ]
  },
  {
   "cell_type": "code",
   "execution_count": 18,
   "id": "e0f1d949",
   "metadata": {},
   "outputs": [
    {
     "data": {
      "text/plain": [
       "0.5465674443206269"
      ]
     },
     "execution_count": 18,
     "metadata": {},
     "output_type": "execute_result"
    }
   ],
   "source": [
    "X_train, X_test, y_train, y_test = train_test_split(X, y, test_size=0.33, random_state=RANDOM_STATE)\n",
    "\n",
    "clf = LogisticRegression(random_state=RANDOM_STATE).fit(X_train, y_train)\n",
    "\n",
    "roc_auc_score(clf.predict(X_test), y_test)"
   ]
  },
  {
   "cell_type": "markdown",
   "id": "7dd44013",
   "metadata": {},
   "source": [
    "### Mejor score de validación"
   ]
  },
  {
   "cell_type": "markdown",
   "id": "3c0e581b",
   "metadata": {},
   "source": [
    "En esta sección se calculará el mejor score de validación obtenido.\n",
    "\n",
    "Para ello, se emplea Cross Validation y tunning de hieprparametros para obtener el mejor resultado."
   ]
  },
  {
   "cell_type": "code",
   "execution_count": 19,
   "id": "ae25b974",
   "metadata": {
    "scrolled": false
   },
   "outputs": [
    {
     "name": "stdout",
     "output_type": "stream",
     "text": [
      "Best Score: 0.6996924441603674\n",
      "Best Hyperparameters: {'solver': 'newton-cg', 'penalty': 'none', 'C': 10}\n"
     ]
    }
   ],
   "source": [
    "model = LogisticRegression()\n",
    "\n",
    "space = {\n",
    "    'solver': ['newton-cg', 'lbfgs', 'liblinear', 'sag', 'saga'],\n",
    "    'penalty': ['none', 'l1', 'l2', 'elasticnet'],\n",
    "    'C': [1e-5, 1e-4, 1e-3, 1e-2, 1e-1, 1, 10, 100]\n",
    "}\n",
    "\n",
    "cv = KFold(n_splits=3)\n",
    "\n",
    "search = RandomizedSearchCV(model,\n",
    "                            space,\n",
    "                            cv=cv,\n",
    "                            scoring='roc_auc',\n",
    "                            random_state=RANDOM_STATE)\n",
    "\n",
    "result = search.fit(X, y)\n",
    "\n",
    "# summarize result:\n",
    "\n",
    "print('Best Score: %s' % result.best_score_)\n",
    "print('Best Hyperparameters: %s' % result.best_params_)"
   ]
  },
  {
   "cell_type": "markdown",
   "id": "96fce5d8",
   "metadata": {},
   "source": [
    "### Predicción en la compentecia"
   ]
  },
  {
   "cell_type": "markdown",
   "id": "36e664ad",
   "metadata": {},
   "source": [
    "En la siguiente sección vamos a calcular la predicció si estuvieramos compitiendo con el mejor modelo que se logró con el modelo \"Logistic Regression\"."
   ]
  },
  {
   "cell_type": "code",
   "execution_count": 20,
   "id": "a969c9cb",
   "metadata": {},
   "outputs": [],
   "source": [
    "# Leo archivos test\n",
    "\n",
    "df_identity_test = pd.read_csv(\"dataset/test_identity.csv\")\n",
    "df_transaction_test = pd.read_csv(\"dataset/test_transaction.csv\")\n",
    "\n",
    "df_test = df_identity_test.merge(df_transaction_test, on=\"TransactionID\", how=\"outer\")\n",
    "df_identity_test, df_transaction_test = None, None"
   ]
  },
  {
   "cell_type": "code",
   "execution_count": 21,
   "id": "aa55de30",
   "metadata": {},
   "outputs": [],
   "source": [
    "# Aplico Feature Engineering\n",
    "\n",
    "df_test.columns = df_test.columns.str.replace(\"id-\", \"id_\")\n",
    "X_test = feature_engineering(df_test, df_train, True).fillna(0)\n",
    "TransactionID = X_test[\"TransactionID\"]\n",
    "del X_test[\"TransactionID\"]"
   ]
  },
  {
   "cell_type": "code",
   "execution_count": 22,
   "id": "c60d1dbc",
   "metadata": {},
   "outputs": [
    {
     "data": {
      "text/plain": [
       "LogisticRegression(C=0.1, penalty='l1', solver='liblinear')"
      ]
     },
     "execution_count": 22,
     "metadata": {},
     "output_type": "execute_result"
    }
   ],
   "source": [
    "# Creo modelo con los hiperparametros resultantes de la busqueda de hiperparametros\n",
    "\n",
    "best_LG = LogisticRegression(\n",
    "    random_state=RANDOM_STATE,\n",
    "    solver = 'liblinear',\n",
    "    penalty = 'l1',\n",
    "    C = 0.1\n",
    ")\n",
    "\n",
    "best_LG.fit(X, y)"
   ]
  },
  {
   "cell_type": "code",
   "execution_count": 23,
   "id": "c2b4b7e3",
   "metadata": {},
   "outputs": [],
   "source": [
    "# Creo archivo para realizar el submit en la competencia\n",
    "\n",
    "result_competition = best_LG.predict_proba(X_test)\n",
    "result = pd.DataFrame()\n",
    "\n",
    "result[\"TransactionID\"] = TransactionID\n",
    "result[\"isFraud\"] = result_competition[:, 1]"
   ]
  },
  {
   "cell_type": "code",
   "execution_count": 24,
   "id": "bdd8628a",
   "metadata": {},
   "outputs": [],
   "source": [
    "result.to_csv('predictions/LG-2021-11-27-11:00' + '.csv', index=False)"
   ]
  },
  {
   "cell_type": "markdown",
   "id": "87c3f9f6",
   "metadata": {},
   "source": [
    "En la competencia se logro un puntaje de 0.837198 (private) y 0.865517 (public)."
   ]
  },
  {
   "cell_type": "markdown",
   "id": "c16ea2ad",
   "metadata": {},
   "source": [
    "### Mejores features"
   ]
  },
  {
   "cell_type": "code",
   "execution_count": 25,
   "id": "88fa318c",
   "metadata": {
    "scrolled": true
   },
   "outputs": [],
   "source": [
    "# Creo un dataframe con la importancia de cada feature\n",
    "\n",
    "df_features_coef = pd.DataFrame()\n",
    "df_features_coef[\"feature\"] = X_test.columns\n",
    "df_features_coef[\"importance\"] = abs(best_LG.coef_[0])\n",
    "df_features_coef.set_index([\"feature\"], inplace=True)"
   ]
  },
  {
   "cell_type": "code",
   "execution_count": 26,
   "id": "f580c9b0",
   "metadata": {
    "scrolled": true
   },
   "outputs": [
    {
     "data": {
      "text/plain": [
       "feature\n",
       "card6            14.235052\n",
       "R_emaildomain     8.078322\n",
       "id_33             5.309811\n",
       "DeviceInfo        4.560302\n",
       "id_31             2.580144\n",
       "id_30             2.196045\n",
       "C3                2.019257\n",
       "V153              1.398573\n",
       "V65               1.331277\n",
       "V241              1.320035\n",
       "V240              1.242648\n",
       "V48               1.094151\n",
       "V50               1.000147\n",
       "V111              0.954047\n",
       "V174              0.947456\n",
       "V252              0.868846\n",
       "id_35             0.831606\n",
       "V149              0.809819\n",
       "V147              0.791661\n",
       "V156              0.774978\n",
       "V305              0.760688\n",
       "V119              0.754575\n",
       "V141              0.684431\n",
       "V41               0.654837\n",
       "V73               0.649653\n",
       "V18               0.603840\n",
       "id_29             0.580653\n",
       "P_emaildomain     0.563317\n",
       "V49               0.519384\n",
       "V139              0.462967\n",
       "Name: importance, dtype: float64"
      ]
     },
     "execution_count": 26,
     "metadata": {},
     "output_type": "execute_result"
    }
   ],
   "source": [
    "# Busco los n features mas importantes\n",
    "\n",
    "n = 30\n",
    "top_n = df_features_coef[\"importance\"].nlargest(n)\n",
    "top_n"
   ]
  },
  {
   "cell_type": "code",
   "execution_count": 27,
   "id": "76e42982",
   "metadata": {},
   "outputs": [
    {
     "data": {
      "image/png": "[encoded data removed]",
      "text/plain": [
       "<Figure size 1440x360 with 1 Axes>"
      ]
     },
     "metadata": {
      "needs_background": "light"
     },
     "output_type": "display_data"
    }
   ],
   "source": [
    "# Grafico los n features mas importantes\n",
    "\n",
    "fig, axs = plt.subplots(figsize=(20,5))\n",
    "\n",
    "plt.stem(top_n)\n",
    "plt.xticks(range(n),top_n.index, rotation=60)\n",
    "plt.yticks(range(16))\n",
    "plt.grid(True)\n",
    "plt.xlabel(\"Features\")\n",
    "plt.ylabel(\"Coeficiente absoluto\")\n",
    "\n",
    "fig.suptitle(\"Top 30 features mas importantes en el modelo de Regresion Logistica\", fontsize=18)\n",
    "\n",
    "plt.show()"
   ]
  }
 ],
 "metadata": {
  "kernelspec": {
   "display_name": "Python 3",
   "language": "python",
   "name": "python3"
  },
  "language_info": {
   "codemirror_mode": {
    "name": "ipython",
    "version": 3
   },
   "file_extension": ".py",
   "mimetype": "text/x-python",
   "name": "python",
   "nbconvert_exporter": "python",
   "pygments_lexer": "ipython3",
   "version": "3.8.8"
  }
 },
 "nbformat": 4,
 "nbformat_minor": 5
}
