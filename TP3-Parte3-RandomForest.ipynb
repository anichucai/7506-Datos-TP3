{
 "cells": [
  {
   "cell_type": "markdown",
   "id": "f01b9703",
   "metadata": {},
   "source": [
    "# Parte III: RandomForest"
   ]
  },
  {
   "cell_type": "code",
   "execution_count": 1,
   "id": "1b102310",
   "metadata": {},
   "outputs": [],
   "source": [
    "import pandas as pd\n",
    "import numpy as np\n",
    "import datetime as dt\n",
    "from matplotlib import pyplot as plt\n"
   ]
  },
  {
   "cell_type": "code",
   "execution_count": 2,
   "id": "15e057b8",
   "metadata": {},
   "outputs": [],
   "source": [
    "# Do not print warings\n",
    "import warnings; warnings.simplefilter('ignore')"
   ]
  },
  {
   "cell_type": "code",
   "execution_count": 3,
   "id": "54142d13",
   "metadata": {},
   "outputs": [],
   "source": [
    "RANDOM_STATE = 24 #mi numero favoritos\n",
    "N_JOBS = -1\n",
    "\n",
    "prefix = {\n",
    "    \"NF\":\"|\",\n",
    "    \"B\": \"BINARY_ENCODING|\",\n",
    "    \"TFIDF\":\"TFIDF|\",\n",
    "    \"ME\":\"MEAN_ENCODING|\",\n",
    "    \"OHE\":\"ONE_HOT_ENCODING|\"    \n",
    "}"
   ]
  },
  {
   "cell_type": "markdown",
   "id": "1e7a17f7",
   "metadata": {},
   "source": [
    "## Obtengo el dataset"
   ]
  },
  {
   "cell_type": "markdown",
   "id": "372dbb0b",
   "metadata": {},
   "source": [
    "Uno dos de los archivos con datos otorgados"
   ]
  },
  {
   "cell_type": "code",
   "execution_count": 4,
   "id": "f8878eaf",
   "metadata": {
    "scrolled": true
   },
   "outputs": [],
   "source": [
    "df_identity = pd.read_csv(\"dataset/train_identity.csv\")\n",
    "df_transaction = pd.read_csv(\"dataset/train_transaction.csv\")"
   ]
  },
  {
   "cell_type": "code",
   "execution_count": 5,
   "id": "ff9312cb",
   "metadata": {},
   "outputs": [],
   "source": [
    "df_train = df_identity.merge(df_transaction, on=\"TransactionID\", how=\"outer\")\n",
    "df_identity, df_transaction = None, None #libero memoria"
   ]
  },
  {
   "cell_type": "code",
   "execution_count": 6,
   "id": "23a07c79",
   "metadata": {},
   "outputs": [],
   "source": [
    "len_rows , len_columns = df_train.shape"
   ]
  },
  {
   "cell_type": "markdown",
   "id": "9ade827e",
   "metadata": {},
   "source": [
    "## Identifico columas unicas"
   ]
  },
  {
   "cell_type": "markdown",
   "id": "e4138eed",
   "metadata": {},
   "source": [
    "Observamos que la única columna con valores únicos es la que representa \"TransactionID\"."
   ]
  },
  {
   "cell_type": "code",
   "execution_count": 7,
   "id": "5f0e2743",
   "metadata": {
    "scrolled": true
   },
   "outputs": [
    {
     "data": {
      "text/plain": [
       "False    433\n",
       "True       1\n",
       "dtype: int64"
      ]
     },
     "execution_count": 7,
     "metadata": {},
     "output_type": "execute_result"
    }
   ],
   "source": [
    "(df_train.nunique() == len_rows).value_counts()"
   ]
  },
  {
   "cell_type": "markdown",
   "id": "6ed66f4d",
   "metadata": {},
   "source": [
    "## Elimino columnas vacias "
   ]
  },
  {
   "cell_type": "markdown",
   "id": "a68af692",
   "metadata": {},
   "source": [
    "Observo que no hay columnas vacias"
   ]
  },
  {
   "cell_type": "code",
   "execution_count": 8,
   "id": "af8e9eb5",
   "metadata": {
    "scrolled": false
   },
   "outputs": [
    {
     "data": {
      "text/plain": [
       "False    434\n",
       "dtype: int64"
      ]
     },
     "execution_count": 8,
     "metadata": {},
     "output_type": "execute_result"
    }
   ],
   "source": [
    "(df_train.isna().sum() == len_rows).value_counts()"
   ]
  },
  {
   "cell_type": "markdown",
   "id": "1655bf29",
   "metadata": {},
   "source": [
    "### Identifico variables categoricas"
   ]
  },
  {
   "cell_type": "code",
   "execution_count": 9,
   "id": "e4272e13",
   "metadata": {
    "scrolled": true
   },
   "outputs": [],
   "source": [
    "FEATURES_CATEGORICOS = list(df_train.dtypes[(df_train.dtypes ==\"object\")].index)"
   ]
  },
  {
   "cell_type": "markdown",
   "id": "1fd52b09",
   "metadata": {},
   "source": [
    "## Feature engineering"
   ]
  },
  {
   "cell_type": "markdown",
   "id": "38e4c507",
   "metadata": {},
   "source": [
    "### Funciones auxiliares"
   ]
  },
  {
   "cell_type": "code",
   "execution_count": 10,
   "id": "ab32dfd1",
   "metadata": {},
   "outputs": [],
   "source": [
    "def binary_encoding(value, keys):\n",
    "    if(value==keys[0]):\n",
    "        return 1\n",
    "    elif(value==keys[1]):\n",
    "        return 0\n",
    "    return np.nan"
   ]
  },
  {
   "cell_type": "code",
   "execution_count": 11,
   "id": "136618b6",
   "metadata": {},
   "outputs": [],
   "source": [
    "def mean_encoding(df, feature_name, target_name):\n",
    "    values = df.groupby([feature_name])[target_name].mean().to_dict()\n",
    "    return df[feature_name].map(values)\n",
    "\n",
    "def mean_encoding_test(df, df_train, feature_name, target_name):\n",
    "    values = df_train.groupby([feature_name])[target_name].mean().to_dict()\n",
    "    return df[feature_name].map(values)"
   ]
  },
  {
   "cell_type": "code",
   "execution_count": 12,
   "id": "8afd381b",
   "metadata": {},
   "outputs": [],
   "source": [
    "from sklearn.feature_extraction.text import TfidfVectorizer\n",
    "\n",
    "def tfidf_encoding(df, feature_name, min_df=0.01, df_test= None, isTest = False):\n",
    "    train = df[feature_name].fillna(\"\")\n",
    "    tfidfvectorizer = TfidfVectorizer(analyzer='word',stop_words= 'english', min_df=min_df)\n",
    "    tfidf_wm = tfidfvectorizer.fit_transform(train)\n",
    "    tfidf_tokens = tfidfvectorizer.get_feature_names()\n",
    "    if(isTest):\n",
    "        test = df_test[feature_name].fillna(\"\")\n",
    "        tfidf_wm = tfidfvectorizer.transform(test)\n",
    "    df_tfidfvect = pd.DataFrame(data = tfidf_wm.toarray(), columns = tfidf_tokens)\n",
    "    df_tfidfvect.columns = [prefix[\"NF\"] + prefix[\"TFIDF\"] + x for x in df_tfidfvect.columns]\n",
    "    return df_tfidfvect"
   ]
  },
  {
   "cell_type": "code",
   "execution_count": 13,
   "id": "78fcea57",
   "metadata": {},
   "outputs": [],
   "source": [
    "from sklearn.preprocessing import OneHotEncoder\n",
    "\n",
    "def one_hot_encoding(df, feature_name, df_test= None, isTest = False):\n",
    "    enc = OneHotEncoder(handle_unknown='ignore')\n",
    "    \n",
    "    train = df[[feature_name]]\n",
    "    enc_wm = enc.fit(train)\n",
    "    enc_tokens = enc.get_feature_names()\n",
    "    if(isTest):\n",
    "        test = df_test[[feature_name]].fillna(\"\")\n",
    "        enc_data = enc.transform(test)\n",
    "    else:\n",
    "        enc_data = enc.transform(train)\n",
    "\n",
    "    df_enc = pd.DataFrame(data = enc_data.toarray(), columns = enc_tokens)\n",
    "    df_enc.columns = [prefix[\"NF\"] + prefix[\"OHE\"] + x for x in df_enc.columns]\n",
    "    return df_enc"
   ]
  },
  {
   "cell_type": "markdown",
   "id": "56e0b09a",
   "metadata": {},
   "source": [
    "### Casos particulares"
   ]
  },
  {
   "cell_type": "code",
   "execution_count": 14,
   "id": "f4f0e1fa",
   "metadata": {},
   "outputs": [],
   "source": [
    "def get_match_status(x):\n",
    "    if(type(x) != float):\n",
    "        return int(x.split(\":\")[1])\n",
    "    return np.nan\n",
    "\n",
    "def enconde_id_34(df):\n",
    "    df[prefix[\"NF\"] + \"id_34\"] = df[\"id_34\"].apply(lambda x: get_match_status(x))"
   ]
  },
  {
   "cell_type": "code",
   "execution_count": 15,
   "id": "bef55ae8",
   "metadata": {},
   "outputs": [],
   "source": [
    "def get_size_screen(x):\n",
    "    if(type(x) != float):\n",
    "        return int(x.split(\"x\")[1])\n",
    "    return np.nan\n",
    "\n",
    "def enconde_id_33(df):\n",
    "    temp =  df[\"id_33\"].apply(lambda x: get_size_screen(x))\n",
    "    df[prefix[\"NF\"] + \"1|\" + \"id_33\"] = temp.apply(lambda x: x[0] if(type(x) != float) else np.nan)\n",
    "    df[prefix[\"NF\"] + \"2|\" + \"id_33\"] = temp.apply(lambda x: x[1] if(type(x) != float) else np.nan)\n",
    "        "
   ]
  },
  {
   "cell_type": "markdown",
   "id": "3e1700d6",
   "metadata": {},
   "source": [
    "### Feature engineering"
   ]
  },
  {
   "cell_type": "code",
   "execution_count": 16,
   "id": "1c6c7d50",
   "metadata": {},
   "outputs": [],
   "source": [
    "features_one_hot_encoding = [\"id_15\", \"id_23\", \"id_34\", \"DeviceType\", \"ProductCD\", \"card4\", \"card6\", \"M4\"]"
   ]
  },
  {
   "cell_type": "code",
   "execution_count": 17,
   "id": "b105dce1",
   "metadata": {},
   "outputs": [],
   "source": [
    "def feature_engineering(df_original, df_train = None, isTest=False, allowCategorical= True):\n",
    "    \n",
    "    df = df_original.copy()\n",
    "    \n",
    "    # Features unicos\n",
    "    features_unicas = []\n",
    "    for feature in features_unicas:\n",
    "        del df[feature]\n",
    "        \n",
    "    # Mean encoding\n",
    "    feature_mean_encoding = [\n",
    "        'id_15', 'id_23', 'id_30','id_31', 'id_33', 'id_34', 'DeviceInfo', 'ProductCD', 'card4', 'card6',\n",
    "       'P_emaildomain', 'R_emaildomain', 'M4']\n",
    "    \n",
    "    for feature in feature_mean_encoding:\n",
    "        if(isTest):\n",
    "            df[prefix[\"NF\"] + prefix[\"ME\"] + feature] = mean_encoding_test(df, df_train, feature, \"isFraud\")\n",
    "        else:\n",
    "            df[prefix[\"NF\"] + prefix[\"ME\"] + feature] = mean_encoding(df, feature, \"isFraud\")\n",
    "    \n",
    "    # TFIDF\n",
    "    features_tdf_idf = ['id_23', 'id_30','id_31', 'id_33', 'DeviceInfo', 'card4', 'card6', 'P_emaildomain', 'R_emaildomain', 'M4']\n",
    "        \n",
    "    for feature in features_tdf_idf:        \n",
    "        if(isTest):\n",
    "            df.join(tfidf_encoding(df, feature, 0.001, df_original, isTest))\n",
    "        else:\n",
    "            df.join(tfidf_encoding(df, feature, min_df=0.001))\n",
    "\n",
    "    # One hot encoding\n",
    "    lista_features_binarias = [\"id_35\", \"id_36\", \"id_37\", \"id_38\",\n",
    "                               'M1', 'M2', 'M3', \"M5\", \"M6\", 'M7', 'M8', 'M9',\n",
    "                               \"id_12\", \"id_27\", \"id_28\", \"id_29\",\"id_16\",\n",
    "                               'DeviceType']\n",
    "    features_one_hot_ecoding = lista_features_binarias + [\"id_15\", \"id_23\", \"id_34\", \"DeviceType\", \"ProductCD\", \"card4\", \"card6\", \"M4\"]\n",
    "    for feature in features_one_hot_ecoding:        \n",
    "        if(isTest):\n",
    "            df.join(one_hot_encoding(df, feature, df_original, isTest))\n",
    "        else:\n",
    "            df.join(one_hot_encoding(df, feature))\n",
    "            \n",
    "    # Casos particulares\n",
    "    enconde_id_34(df)\n",
    "    enconde_id_33(df)\n",
    "    \n",
    "    #Puede tener features categoricos\n",
    "    if(not allowCategorical):\n",
    "        for i in FEATURES_CATEGORICOS:\n",
    "            del df[i]\n",
    "            \n",
    "    return df"
   ]
  },
  {
   "cell_type": "markdown",
   "id": "24b8d749",
   "metadata": {},
   "source": [
    "## RandomForestClassifier"
   ]
  },
  {
   "cell_type": "code",
   "execution_count": 18,
   "id": "7a999220",
   "metadata": {},
   "outputs": [],
   "source": [
    "# Librerias\n",
    "\n",
    "from sklearn.model_selection import train_test_split\n",
    "\n",
    "from sklearn.model_selection import KFold\n",
    "\n",
    "from sklearn.model_selection import RandomizedSearchCV\n",
    "\n",
    "from sklearn.metrics import roc_auc_score"
   ]
  },
  {
   "cell_type": "code",
   "execution_count": 19,
   "id": "10f8f609",
   "metadata": {},
   "outputs": [],
   "source": [
    "from sklearn.ensemble import RandomForestClassifier"
   ]
  },
  {
   "cell_type": "code",
   "execution_count": 20,
   "id": "a3390ad9",
   "metadata": {},
   "outputs": [],
   "source": [
    "# Se separa el target\n",
    "\n",
    "df_RF = feature_engineering(df_train, allowCategorical=False).fillna(0)\n",
    "\n",
    "X = df_RF.drop(columns = [\"isFraud\"])\n",
    "del X[\"TransactionID\"]\n",
    "\n",
    "y = df_RF[\"isFraud\"]\n",
    "\n",
    "df_RF = None"
   ]
  },
  {
   "cell_type": "markdown",
   "id": "d5716a71",
   "metadata": {},
   "source": [
    "### Corrida básica sin tunning"
   ]
  },
  {
   "cell_type": "code",
   "execution_count": 21,
   "id": "e0f1d949",
   "metadata": {},
   "outputs": [],
   "source": [
    "X_train, X_test, y_train, y_test = train_test_split(X, y, test_size=0.33, random_state=RANDOM_STATE)\n",
    "\n",
    "clf = RandomForestClassifier(n_jobs=N_JOBS).fit(X_train, y_train)"
   ]
  },
  {
   "cell_type": "code",
   "execution_count": 22,
   "id": "0d279e86",
   "metadata": {
    "scrolled": true
   },
   "outputs": [
    {
     "data": {
      "text/plain": [
       "0.9625159729758355"
      ]
     },
     "execution_count": 22,
     "metadata": {},
     "output_type": "execute_result"
    }
   ],
   "source": [
    "roc_auc_score(clf.predict(X_test), y_test)"
   ]
  },
  {
   "cell_type": "markdown",
   "id": "7dd44013",
   "metadata": {},
   "source": [
    "### Mejor score de validación"
   ]
  },
  {
   "cell_type": "markdown",
   "id": "3c0e581b",
   "metadata": {},
   "source": [
    "En esta sección se calculará el mejor score de validación obtenido.\n",
    "\n",
    "Para ello, se emplea Cross Validation y tunning de hieprparametros para obtener el mejor resultado."
   ]
  },
  {
   "cell_type": "code",
   "execution_count": 23,
   "id": "241cd145",
   "metadata": {},
   "outputs": [],
   "source": [
    "space = {\n",
    "    'bootstrap': [True, False],\n",
    "     'max_depth': [10, 20, 30, 40, 50, 60, 70, 80, 90, 100, None],\n",
    "    \"criterion\": [\"gini\", \"entropy\"],\n",
    "    'n_estimators': [10,20,50,80,100,150,250,400,500,800,1000],\n",
    "    'max_features': ['auto', \"sqrt\", \"log2\"],\n",
    "    'min_samples_split': np.arange(0, 15, 1),\n",
    "    'min_samples_leaf': np.arange(0, 15, 1),\n",
    "    \"min_impurity_decrease\": [0.00001,0.0001, 0.0005, 0.001, 0.01],\n",
    "    \"min_weight_fraction_leaf\": [0.00001,0.0001, 0.0005, 0.001, 0.01]\n",
    "}"
   ]
  },
  {
   "cell_type": "code",
   "execution_count": 24,
   "id": "ae25b974",
   "metadata": {
    "scrolled": false
   },
   "outputs": [
    {
     "name": "stdout",
     "output_type": "stream",
     "text": [
      "Best Score: 0.8309784245219363\n",
      "Best Hyperparameters: {'n_estimators': 500, 'min_weight_fraction_leaf': 0.0005, 'min_samples_split': 9, 'min_samples_leaf': 1, 'min_impurity_decrease': 1e-05, 'max_features': 'sqrt', 'max_depth': 30, 'criterion': 'entropy', 'bootstrap': False}\n"
     ]
    }
   ],
   "source": [
    "model = RandomForestClassifier(n_jobs=N_JOBS)\n",
    "\n",
    "cv = KFold(n_splits=3)\n",
    "\n",
    "search = RandomizedSearchCV(model,\n",
    "                            space,\n",
    "                            cv=cv,\n",
    "                            scoring='roc_auc',\n",
    "                            random_state=RANDOM_STATE,\n",
    "                            n_jobs=N_JOBS)\n",
    "\n",
    "result = search.fit(X, y)\n",
    "\n",
    "# summarize result:\n",
    "\n",
    "print('Best Score: %s' % result.best_score_)\n",
    "print('Best Hyperparameters: %s' % result.best_params_)"
   ]
  },
  {
   "cell_type": "markdown",
   "id": "96fce5d8",
   "metadata": {},
   "source": [
    "### Predicción en la compentecia"
   ]
  },
  {
   "cell_type": "markdown",
   "id": "36e664ad",
   "metadata": {},
   "source": [
    "En la siguiente sección vamos a calcular la predicció si estuvieramos compitiendo con el mejor modelo que se logró con el modelo \"Logistic Regression\"."
   ]
  },
  {
   "cell_type": "code",
   "execution_count": 25,
   "id": "a969c9cb",
   "metadata": {},
   "outputs": [],
   "source": [
    "# Leo archivos test\n",
    "\n",
    "df_identity_test = pd.read_csv(\"dataset/test_identity.csv\")\n",
    "df_transaction_test = pd.read_csv(\"dataset/test_transaction.csv\")\n",
    "\n",
    "df_test = df_identity_test.merge(df_transaction_test, on=\"TransactionID\", how=\"outer\")\n",
    "df_identity_test, df_transaction_test = None, None"
   ]
  },
  {
   "cell_type": "code",
   "execution_count": 26,
   "id": "aa55de30",
   "metadata": {},
   "outputs": [],
   "source": [
    "# Aplico Feature Engineering\n",
    "\n",
    "df_test.columns = df_test.columns.str.replace(\"id-\", \"id_\")\n",
    "X_test = feature_engineering(df_test, df_train, True, allowCategorical=False).fillna(0)\n",
    "TransactionID = X_test[\"TransactionID\"]\n",
    "del X_test[\"TransactionID\"]"
   ]
  },
  {
   "cell_type": "code",
   "execution_count": 27,
   "id": "c60d1dbc",
   "metadata": {},
   "outputs": [
    {
     "data": {
      "text/plain": [
       "RandomForestClassifier(bootstrap=False, criterion='entropy', max_depth=30,\n",
       "                       max_features='sqrt', min_impurity_decrease=1e-05,\n",
       "                       min_samples_split=9, min_weight_fraction_leaf=0.0005,\n",
       "                       n_estimators=500)"
      ]
     },
     "execution_count": 27,
     "metadata": {},
     "output_type": "execute_result"
    }
   ],
   "source": [
    "# Creo modelo con los hiperparametros resultantes de la busqueda de hiperparametros\n",
    "\n",
    "best_RF_params = {'n_estimators': 500, 'min_weight_fraction_leaf': 0.0005, 'min_samples_split': 9, 'min_samples_leaf': 1, 'min_impurity_decrease': 1e-05, 'max_features': 'sqrt', 'max_depth': 30, 'criterion': 'entropy', 'bootstrap': False}\n",
    "best_RF = RandomForestClassifier(**best_RF_params)\n",
    "best_RF.fit(X, y)"
   ]
  },
  {
   "cell_type": "code",
   "execution_count": 29,
   "id": "c2b4b7e3",
   "metadata": {},
   "outputs": [],
   "source": [
    "# Creo archivo para realizar el submit en la competencia\n",
    "\n",
    "result_competition = best_RF.predict_proba(X_test)\n",
    "result = pd.DataFrame()\n",
    "\n",
    "result[\"TransactionID\"] = TransactionID\n",
    "result[\"isFraud\"] = result_competition[:, 1]"
   ]
  },
  {
   "cell_type": "code",
   "execution_count": 30,
   "id": "bdd8628a",
   "metadata": {},
   "outputs": [],
   "source": [
    "result.to_csv('predictions/RF_2021-11-26-21:01' + '.csv', index=False)"
   ]
  },
  {
   "cell_type": "markdown",
   "id": "87c3f9f6",
   "metadata": {},
   "source": [
    "En la competencia se logro un puntaje de 0.883026 (private) y 0.899807 (public)."
   ]
  },
  {
   "cell_type": "markdown",
   "id": "c16ea2ad",
   "metadata": {},
   "source": [
    "### Mejores features"
   ]
  },
  {
   "cell_type": "code",
   "execution_count": 31,
   "id": "88fa318c",
   "metadata": {
    "scrolled": true
   },
   "outputs": [],
   "source": [
    "# Creo un dataframe con la importancia de cada feature\n",
    "\n",
    "df_features_coef = pd.DataFrame()\n",
    "df_features_coef[\"feature\"] = X_test.columns\n",
    "df_features_coef[\"importance\"] = abs(best_RF.feature_importances_)\n",
    "df_features_coef.set_index([\"feature\"], inplace=True)"
   ]
  },
  {
   "cell_type": "code",
   "execution_count": 32,
   "id": "f580c9b0",
   "metadata": {
    "scrolled": true
   },
   "outputs": [
    {
     "data": {
      "text/plain": [
       "feature\n",
       "V258                         0.029875\n",
       "V201                         0.027126\n",
       "C13                          0.027101\n",
       "C14                          0.026957\n",
       "C1                           0.021368\n",
       "V257                         0.018995\n",
       "V200                         0.018937\n",
       "|MEAN_ENCODING|DeviceInfo    0.018518\n",
       "V244                         0.017405\n",
       "V246                         0.016795\n",
       "V243                         0.015300\n",
       "C4                           0.015229\n",
       "V317                         0.014370\n",
       "C8                           0.014222\n",
       "V187                         0.013041\n",
       "V189                         0.013023\n",
       "V199                         0.012813\n",
       "C12                          0.012582\n",
       "C7                           0.011818\n",
       "C11                          0.011551\n",
       "V242                         0.011405\n",
       "V294                         0.011100\n",
       "V190                         0.011080\n",
       "V274                         0.010578\n",
       "C10                          0.010225\n",
       "V295                         0.010078\n",
       "V318                         0.009965\n",
       "V283                         0.009726\n",
       "TransactionAmt               0.009638\n",
       "V275                         0.009325\n",
       "Name: importance, dtype: float64"
      ]
     },
     "execution_count": 32,
     "metadata": {},
     "output_type": "execute_result"
    }
   ],
   "source": [
    "# Busco los n features mas importantes\n",
    "\n",
    "n = 30\n",
    "top_n = df_features_coef[\"importance\"].nlargest(n)\n",
    "\n",
    "top_n"
   ]
  },
  {
   "cell_type": "code",
   "execution_count": 34,
   "id": "76e42982",
   "metadata": {},
   "outputs": [
    {
     "data": {
      "image/png": "[encoded data removed]",
      "text/plain": [
       "<Figure size 1440x360 with 1 Axes>"
      ]
     },
     "metadata": {
      "needs_background": "light"
     },
     "output_type": "display_data"
    }
   ],
   "source": [
    "# Grafico los n features mas importantes\n",
    "\n",
    "fig, axs = plt.subplots(figsize=(20,5))\n",
    "\n",
    "plt.stem(top_n)\n",
    "plt.xticks(range(n),top_n.index, rotation=60)\n",
    "plt.yticks(np.arange(0,0.05,0.01))\n",
    "plt.grid(True)\n",
    "plt.xlabel(\"Features\")\n",
    "plt.ylabel(\"Coeficiente absoluto\")\n",
    "\n",
    "fig.suptitle(\"Top 30 features mas importantes en el modelo de Random Forest\", fontsize=18)\n",
    "\n",
    "plt.show()"
   ]
  }
 ],
 "metadata": {
  "kernelspec": {
   "display_name": "Python 3",
   "language": "python",
   "name": "python3"
  },
  "language_info": {
   "codemirror_mode": {
    "name": "ipython",
    "version": 3
   },
   "file_extension": ".py",
   "mimetype": "text/x-python",
   "name": "python",
   "nbconvert_exporter": "python",
   "pygments_lexer": "ipython3",
   "version": "3.8.8"
  }
 },
 "nbformat": 4,
 "nbformat_minor": 5
}
